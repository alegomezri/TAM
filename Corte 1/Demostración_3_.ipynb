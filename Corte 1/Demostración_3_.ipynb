{
  "nbformat": 4,
  "nbformat_minor": 0,
  "metadata": {
    "colab": {
      "provenance": []
    },
    "kernelspec": {
      "name": "python3",
      "display_name": "Python 3"
    },
    "language_info": {
      "name": "python"
    },
    "accelerator": "TPU"
  },
  "cells": [
    {
      "cell_type": "markdown",
      "source": [
        "**Para la varianza**\n",
        "\n",
        "Varianza de $X$:\n",
        "\n",
        "$$\\text{Var}(X) = E\\left\\{(X - \\mu_X)^2\\right\\}$$\n",
        "\n",
        " La varianza es el valor esperado del cuadrado de la desviación de $X$ respecto a su media:\n",
        "\n",
        "\n",
        "$$= E\\left\\{X^2 - 2X\\mu_X + \\mu_X^2\\right\\}$$\n",
        "\n",
        "Expandimos el cuadrado de la diferencia:\n",
        "\n",
        "\n",
        "$$= E\\left\\{X^2\\right\\} - 2\\mu_X E\\left\\{X\\right\\} + \\mu_X^2$$\n",
        "\n",
        "Aplicamos la linealidad de la expectativa y utilizamos que:\n",
        "\n",
        "$$E\\left\\{X\\right\\} = \\mu_X$$\n",
        "\n",
        "$$= E\\left\\{X^2\\right\\} - 2\\mu_X^2 + \\mu_X^2$$\n",
        "\n",
        "Como :\n",
        "$$E\\left\\{X\\right\\} = \\mu_X, $$\n",
        "\n",
        "entonces: $ E\\left\\{X\\right\\}^2 = \\mu_X^2$\n",
        "\n",
        "$$= E\\left\\{X^2\\right\\} - \\mu_X^2$$\n"
      ],
      "metadata": {
        "id": "3NL0-QywS4Nh"
      }
    },
    {
      "cell_type": "markdown",
      "source": [
        "**Para la covarianza:**\n",
        "\n",
        "\n",
        "La covarianza se define como el valor esperado del producto de las desviaciones de $( X )$ y $( Y $) de sus respectivas medias:\n",
        "\n",
        "\n",
        "$$\\text{cov}(X,Y) = E[(X - \\mu_X)(Y - \\mu_Y)]$$\n",
        "\n",
        "\n",
        "Expandimos el producto dentro del valor esperado, aplicando la propiedad distributiva:\n",
        "\n",
        "$$E[(X - \\mu_X)(Y - \\mu_Y)] =  E\\left\\{XY - X\\mu_Y - Y\\mu_X + \\mu_X\\mu_Y\\right\\}\n",
        "$$\n",
        "\n",
        "\n",
        "Separando el valor esperado en términos individuales, usando la propiedad lineal del valor esperado:\n",
        "$$\n",
        "= E\\left\\{XY\\right\\} - \\mu_Y E\\left\\{X\\right\\} - \\mu_X E\\left\\{Y\\right\\} + \\mu_X\\mu_Y \\\\\n",
        "$$\n",
        "\n",
        "Simplificando la expresión, ya que  $ E[X]\\mu_Y + \\mu_XE[Y] - \\mu_X\\mu_Y $ se cancelan mutuamente, nos queda:\n",
        "\n",
        "$$\n",
        " E\\left\\{XY\\right\\} - \\mu_X\\mu_Y$$\n",
        "\n",
        "\n",
        "\n",
        "\n"
      ],
      "metadata": {
        "id": "tBHRUCRxWWU_"
      }
    },
    {
      "cell_type": "markdown",
      "source": [
        "**Para la covarianza con matrices:**\n",
        "\n",
        "La covarianza entre dos vectores $( \\mathbf{x})$ y $( \\mathbf{y} )$ se define como:\n",
        "$$\n",
        "\\text{cov}(\\mathbf{x}, \\mathbf{y}) = E\\left\\{ (\\mathbf{x} - \\mu_{\\mathbf{x}})(\\mathbf{y} - \\mu_{\\mathbf{y}})^T \\right\\}\n",
        "$$\n",
        "\n",
        "donde $( \\mu_{\\mathbf{x}} )$ y $( \\mu_{\\mathbf{y}} )$ son las medias de los vectores $( \\mathbf{x} )$ y $( \\mathbf{y})$, respectivamente, y $( T )$ denota la transpuesta.\n",
        "\n",
        "Expandiendo el producto, obtenemos:\n",
        "$$\n",
        "= E\\left\\{ \\mathbf{x}\\mathbf{y}^T - \\mathbf{x}\\mu_{\\mathbf{y}}^T - \\mu_{\\mathbf{x}}\\mathbf{y}^T + \\mu_{\\mathbf{x}}\\mu_{\\mathbf{y}}^T \\right\\}\n",
        "$$\n",
        "\n",
        "Aplicando la propiedad lineal de la esperanza matemática, distribuimos $( E )$:\n",
        "$$\n",
        "= E\\{\\mathbf{x}\\mathbf{y}^T\\} - E\\{\\mathbf{x}\\}\\mu_{\\mathbf{y}}^T - \\mu_{\\mathbf{x}}E\\{\\mathbf{y}^T\\} + \\mu_{\\mathbf{x}}\\mu_{\\mathbf{y}}^T\n",
        "$$\n",
        "\n",
        "\n",
        "Dado que $( E\\{\\mathbf{x}\\} = \\mu_{\\mathbf{x}} ) $y $( E\\{\\mathbf{y}\\} = \\mu_{\\mathbf{y}} )$, y considerando que la esperanza de un producto donde uno de los términos es constante se puede sacar fuera del operador de esperanza, simplificamos la expresión a:\n",
        "$$\n",
        "= E\\{\\mathbf{x}\\mathbf{y}^T\\} - \\mu_{\\mathbf{x}}\\mu_{\\mathbf{y}}^T\n",
        "$$\n",
        "\n",
        "\n",
        "El resultado final es la covarianza entre los vectores $( \\mathbf{x} )$ y $( \\mathbf{y} )$:\n",
        "$$\n",
        "\\text{cov}(\\mathbf{x}, \\mathbf{y}) = E\\{\\mathbf{x}\\mathbf{y}^T\\} - \\mu_{\\mathbf{x}}\\mu_{\\mathbf{y}}^T\n",
        "$$\n",
        "\n"
      ],
      "metadata": {
        "id": "T_oBdv5DrnF9"
      }
    }
  ]
}