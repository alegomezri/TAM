{
  "nbformat": 4,
  "nbformat_minor": 0,
  "metadata": {
    "colab": {
      "provenance": []
    },
    "kernelspec": {
      "name": "python3",
      "display_name": "Python 3"
    },
    "language_info": {
      "name": "python"
    },
    "accelerator": "TPU"
  },
  "cells": [
    {
      "cell_type": "code",
      "execution_count": null,
      "metadata": {
        "id": "-P2IOOJhNxWo"
      },
      "outputs": [],
      "source": []
    },
    {
      "cell_type": "markdown",
      "source": [
        "Para demostrar que una variable aleatoria $(X)$\n",
        "que sigue una distribución normal con media $(\\mu)$ y varianza  $\\sigma^2$:\n",
        "\n",
        "\n",
        "Primero, definimos la densidad de probabilidad normal:\n",
        "\n",
        "$$N(x|\\mu,\\sigma^2) = \\frac{1}{\\sqrt{2\\pi\\sigma^2}} e^{-\\frac{(x-\\mu)^2}{2\\sigma^2}}$$\n",
        "\n",
        "Valor esperado de $(X)$:\n",
        "\n",
        "$$E[X] = \\int_{-\\infty}^{\\infty} x N(x|\\mu,\\sigma^2) \\, dx \\\\\n",
        "= \\int_{-\\infty}^{\\infty} x \\frac{1}{\\sqrt{2\\pi\\sigma^2}} e^{-\\frac{(x-\\mu)^2}{2\\sigma^2}} \\, dx$$\n",
        "\n",
        "Debido a la simetría de la distribución normal, la integral del producto $(x)\n",
        "$ por la PDF centrada en $(\\mu)$ es la propia media:\n",
        "\n",
        "$$= \\mu$$\n",
        "\n",
        "Valor esperado de $(X^2)$:\n",
        "\n",
        "$$E[X^2] = \\int_{-\\infty}^{\\infty} x^2 N(x|\\mu,\\sigma^2) \\, dx \\\\\n",
        "= \\int_{-\\infty}^{\\infty} x^2 \\frac{1}{\\sqrt{2\\pi\\sigma^2}} e^{-\\frac{(x-\\mu)^2}{2\\sigma^2}} \\, dx$$\n",
        "\n",
        "Esta integral se resuelve mediante la función generadora de momentos o tablas de integrales estándar:\n",
        "\n",
        "$$= \\mu^2 + \\sigma^2$$\n",
        "\n",
        "Varianza de $(X)$:\n",
        "\n",
        "$$\\text{Var}(X) = E[(X - \\mu)^2] \\\\\n",
        "= E[X^2] - (E[X])^2 \\\\\n",
        "= (\\mu^2 + \\sigma^2) - \\mu^2 \\\\\n",
        "= \\sigma^2 $$"
      ],
      "metadata": {
        "id": "fhlZ4Gi2N2tU"
      }
    }
  ]
}
