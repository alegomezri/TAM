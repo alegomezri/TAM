{
  "nbformat": 4,
  "nbformat_minor": 0,
  "metadata": {
    "colab": {
      "provenance": []
    },
    "kernelspec": {
      "name": "python3",
      "display_name": "Python 3"
    },
    "language_info": {
      "name": "python"
    },
    "accelerator": "TPU"
  },
  "cells": [
    {
      "cell_type": "markdown",
      "source": [
        "Dado que cada  $X_i$ es una variable aleatoria normalmente distribuida con media $\\mu$  y varianza $ \\sigma^2$, la media muestral se define como:\n",
        "\n",
        "$$\n",
        "\\bar{X_N} = \\frac{1}{N} \\sum_{i=1}^N X_i\n",
        "$$\n",
        "\n",
        "La esperanza de la media muestral es:\n",
        "\n",
        "$$\n",
        "E[\\bar{X_N}] = E\\left[\\frac{1}{N} \\sum_{i=1}^N X_i\\right]\n",
        "$$\n",
        "\n",
        "Por la linealidad de la esperanza, tenemos:\n",
        "\n",
        "$$\n",
        "E[\\bar{X_N}] = \\frac{1}{N} \\sum_{i=1}^N E[X_i]\n",
        "$$\n",
        "\n",
        "Ya que la esperanza de cada $ X_i$  es $\\mu$:\n",
        "\n",
        "$$\n",
        "E[\\bar{X_N}] = \\frac{1}{N} \\sum_{i=1}^N \\mu = \\frac{1}{N} \\cdot N \\cdot \\mu = \\mu\n",
        "$$\n",
        "\n",
        "Por lo tanto, demostramos que:\n",
        "\n",
        "$$\n",
        "E[\\bar{X_N}] = \\mu\n",
        "$$\n"
      ],
      "metadata": {
        "id": "dnaq1uhAqqN8"
      }
    },
    {
      "cell_type": "markdown",
      "source": [
        "La varianza muestral $S_N^2$  se define como:\n",
        "\n",
        "$$\n",
        "S_N^2 = \\frac{1}{N-1} \\sum_{i=1}^N (X_i - \\bar{X_N})^2\n",
        "$$\n",
        "\n",
        "\\text{Para calcular la esperanza de la varianza muestral, usamos la propiedad de que la esperanza del cuadrado de la diferencia entre la variable aleatoria y su media es igual a la varianza de la variable:}\n",
        "\n",
        "$$\n",
        "E[(X_i - \\mu)^2] = \\sigma^2\n",
        "$$\n",
        "\n",
        "Sin embargo, necesitamos ajustar esto para la diferencia con la media muestral,  $\\bar{X_N}$,  no la media poblacional $\\mu$. La esperanza de $ S_N^2$ se calcula considerando que la suma de las desviaciones al cuadrado.\n"
      ],
      "metadata": {
        "id": "vc_Xrrxcqrlk"
      }
    }
  ]
}